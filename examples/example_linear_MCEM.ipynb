{
 "cells": [
  {
   "cell_type": "code",
   "execution_count": 15,
   "metadata": {
    "ExecuteTime": {
     "end_time": "2018-01-10T18:56:06.681131Z",
     "start_time": "2018-01-10T18:56:06.677993Z"
    },
    "collapsed": true
   },
   "outputs": [],
   "source": [
    "import progscore as ps\n",
    "import numpy as np\n",
    "import pandas as pd\n",
    "\n",
    "import scipy as sp\n",
    "from scipy import linalg as sp_linalg"
   ]
  },
  {
   "cell_type": "code",
   "execution_count": 2,
   "metadata": {
    "ExecuteTime": {
     "end_time": "2018-01-10T18:53:47.834879Z",
     "start_time": "2018-01-10T18:53:47.525657Z"
    },
    "collapsed": true
   },
   "outputs": [],
   "source": [
    "maxNumVisits = 7\n",
    "numBiomarkers = 8\n",
    "numSubjects = 100\n",
    "numVisitsPerSubject = np.random.choice(maxNumVisits-1, numSubjects)+1\n",
    "\n",
    "numSubjVisits = np.sum(numVisitsPerSubject)\n",
    "\n",
    "# Ground truth subject-specific variables\n",
    "ubar_truth = np.array((0.05, -3.80)).reshape(-1,1)\n",
    "V_truth = np.matrix([(0.0055, -0.4),(-0.4, 30)])\n",
    "u_truth = np.random.multivariate_normal(ubar_truth.flatten(), V_truth, numSubjects)\n",
    "alpha_truth = u_truth[:,0]\n",
    "beta_truth = u_truth[:,1]\n",
    "\n",
    "# Ground truth trajectory parameters\n",
    "a_truth = np.random.rayleigh(0.09,numBiomarkers)-0.05\n",
    "b_truth = np.random.normal(1.1,0.15,numBiomarkers)\n",
    "\n",
    "# Generate age at baseline\n",
    "age_baseline = np.random.uniform(56,93,numSubjects)\n",
    "\n",
    "# Subject IDs\n",
    "subject = np.repeat(np.arange(numSubjects),numVisitsPerSubject)\n",
    "# All subjects are controls\n",
    "dx = np.ones_like(subject)\n",
    "\n",
    "# Generate visit numbers and ages at follow-up visits\n",
    "visit = np.zeros_like(subject)\n",
    "age = np.zeros_like(subject, dtype=float)\n"
   ]
  },
  {
   "cell_type": "code",
   "execution_count": 3,
   "metadata": {
    "ExecuteTime": {
     "end_time": "2018-01-10T18:53:47.845190Z",
     "start_time": "2018-01-10T18:53:47.836693Z"
    },
    "collapsed": true
   },
   "outputs": [],
   "source": [
    "for i in range(numSubjects):\n",
    "    idx = subject==i\n",
    "    vi = numVisitsPerSubject[i]\n",
    "    visit[idx] = np.arange(vi)\n",
    "    intervals = np.random.uniform(1,3,vi-1)\n",
    "    age[idx] = np.cumsum(np.insert(intervals,0,age_baseline[i]))"
   ]
  },
  {
   "cell_type": "code",
   "execution_count": 4,
   "metadata": {
    "ExecuteTime": {
     "end_time": "2018-01-10T18:53:47.854229Z",
     "start_time": "2018-01-10T18:53:47.846875Z"
    },
    "collapsed": true
   },
   "outputs": [],
   "source": [
    "# Compute ground truth PS values\n",
    "ps_truth = np.repeat(alpha_truth,numVisitsPerSubject) * age + \\\n",
    "           np.repeat(beta_truth,numVisitsPerSubject)\n",
    "\n",
    "mu = np.mean(ps_truth)\n",
    "sdev = np.std(ps_truth)\n",
    "alpha_truth = alpha_truth / sdev\n",
    "beta_truth = (beta_truth - mu) / sdev\n",
    "ubar_truth[1] -= mu\n",
    "ubar_truth /= sdev\n",
    "V_truth /= sdev**2\n",
    "\n",
    "ps_truth = np.repeat(alpha_truth,numVisitsPerSubject) * age + \\\n",
    "           np.repeat(beta_truth,numVisitsPerSubject)"
   ]
  },
  {
   "cell_type": "code",
   "execution_count": 5,
   "metadata": {
    "ExecuteTime": {
     "end_time": "2018-01-10T18:53:47.859369Z",
     "start_time": "2018-01-10T18:53:47.856223Z"
    },
    "collapsed": true
   },
   "outputs": [],
   "source": [
    "trajectory_truth = ps.LinearTrajectory(numBiomarkers)\n",
    "p = np.vstack((a_truth,b_truth)).T\n",
    "trajectory_truth.setParams(p)"
   ]
  },
  {
   "cell_type": "code",
   "execution_count": 6,
   "metadata": {
    "ExecuteTime": {
     "end_time": "2018-01-10T18:53:47.864635Z",
     "start_time": "2018-01-10T18:53:47.861506Z"
    },
    "collapsed": true
   },
   "outputs": [],
   "source": [
    "y_truth = trajectory_truth.predict(ps_truth)"
   ]
  },
  {
   "cell_type": "code",
   "execution_count": 7,
   "metadata": {
    "ExecuteTime": {
     "end_time": "2018-01-10T18:53:47.871311Z",
     "start_time": "2018-01-10T18:53:47.866610Z"
    },
    "collapsed": true
   },
   "outputs": [],
   "source": [
    "lmbda_truth = np.random.rayleigh(0.04,numBiomarkers)+0.08\n",
    "\n",
    "C_truth = np.eye(numBiomarkers)\n",
    "R_truth = np.diag(np.square(lmbda_truth))"
   ]
  },
  {
   "cell_type": "code",
   "execution_count": 8,
   "metadata": {
    "ExecuteTime": {
     "end_time": "2018-01-10T18:53:48.423734Z",
     "start_time": "2018-01-10T18:53:48.418616Z"
    },
    "collapsed": true
   },
   "outputs": [],
   "source": [
    "y = y_truth + np.random.multivariate_normal(np.zeros(numBiomarkers), R_truth, numSubjVisits)"
   ]
  },
  {
   "cell_type": "code",
   "execution_count": 9,
   "metadata": {
    "ExecuteTime": {
     "end_time": "2018-01-10T18:53:48.821926Z",
     "start_time": "2018-01-10T18:53:48.793167Z"
    },
    "collapsed": true
   },
   "outputs": [],
   "source": [
    "data = pd.DataFrame({'subjectIDps': subject, \n",
    "                     'age': age,\n",
    "                     'dx': dx})\n",
    "\n",
    "model_truth = ps.LinearPSModel(data, y=y)"
   ]
  },
  {
   "cell_type": "code",
   "execution_count": 10,
   "metadata": {
    "ExecuteTime": {
     "end_time": "2018-01-10T18:53:49.792393Z",
     "start_time": "2018-01-10T18:53:49.784283Z"
    },
    "collapsed": true
   },
   "outputs": [],
   "source": [
    "model_truth.trajectory = trajectory_truth\n",
    "model_truth.lmbda = lmbda_truth.reshape(-1,1)\n",
    "model_truth.subjectParameters['ubar'] = ubar_truth.reshape(-1,1)\n",
    "model_truth.subjectParameters['V'] = V_truth\n",
    "model_truth.subjectVariables['alpha'] = alpha_truth.reshape(-1,1)\n",
    "model_truth.subjectVariables['beta'] = beta_truth.reshape(-1,1)\n",
    "model_truth.C = C_truth\n",
    "model_truth.R = R_truth"
   ]
  },
  {
   "cell_type": "code",
   "execution_count": 12,
   "metadata": {
    "ExecuteTime": {
     "end_time": "2018-01-10T18:54:41.191190Z",
     "start_time": "2018-01-10T18:54:41.182401Z"
    }
   },
   "outputs": [
    {
     "name": "stdout",
     "output_type": "stream",
     "text": [
      "[ 65.08761909  67.0558984   69.2195217 ]\n",
      "[[ 1.13602729  0.98878147  1.16796632  0.76407303  0.8208166   1.22338537\n",
      "   1.21633115  1.22585489]\n",
      " [ 1.1165597   0.90869151  1.22710251  0.68804345  0.87797232  1.24133206\n",
      "   0.97609018  1.56057955]\n",
      " [ 1.09561662  1.07357434  1.01072824  0.52448119  0.79147049  1.15680406\n",
      "   1.43809799  1.04636388]]\n"
     ]
    }
   ],
   "source": [
    "# let's look at first individual\n",
    "i = 0\n",
    "idx = subject==i\n",
    "agei = age[idx]\n",
    "yi = y[idx,:]\n",
    "\n",
    "print(agei)\n",
    "print(yi)"
   ]
  },
  {
   "cell_type": "code",
   "execution_count": 23,
   "metadata": {
    "ExecuteTime": {
     "end_time": "2018-01-10T18:57:44.406596Z",
     "start_time": "2018-01-10T18:57:44.392354Z"
    }
   },
   "outputs": [
    {
     "name": "stdout",
     "output_type": "stream",
     "text": [
      "[[ 0.00398384]\n",
      " [ 0.02773729]\n",
      " [ 0.11785859]\n",
      " [ 0.09067912]\n",
      " [ 0.08771094]\n",
      " [-0.00728974]\n",
      " [ 0.01944876]\n",
      " [ 0.01607192]]\n",
      "[ 0.00398384  0.02773729  0.11785859  0.09067912  0.08771094 -0.00728974\n",
      "  0.01944876  0.01607192]\n",
      "[[ 1.09771093]\n",
      " [ 1.01284382]\n",
      " [ 1.26381445]\n",
      " [ 0.73131888]\n",
      " [ 0.80212131]\n",
      " [ 1.19440627]\n",
      " [ 1.1624342 ]\n",
      " [ 1.14161589]]\n",
      "[ 1.09771093  1.01284382  1.26381445  0.73131888  0.80212131  1.19440627\n",
      "  1.1624342   1.14161589]\n",
      "[[ 0.03459167]\n",
      " [-2.74502581]]\n",
      "[[ 0.03459167]\n",
      " [-2.74502581]]\n",
      "[[  2.63248458e-03  -1.91453424e-01]\n",
      " [ -1.91453424e-01   1.43590068e+01]]\n",
      "[[  2.63248458e-03  -1.91453424e-01]\n",
      " [ -1.91453424e-01   1.43590068e+01]]\n",
      "3\n"
     ]
    }
   ],
   "source": [
    "# \n",
    "a = model_truth.trajectory.params[:,0].reshape(-1,1)\n",
    "b = model_truth.trajectory.params[:,1].reshape(-1,1)\n",
    "ubar = model_truth.subjectParameters['ubar'].reshape(-1,1)\n",
    "V = model_truth.subjectParameters['V']\n",
    "nvi = len(agei)\n",
    "\n",
    "print(a)\n",
    "print(a_truth)\n",
    "print(b)\n",
    "print(b_truth)\n",
    "print(ubar)\n",
    "print(ubar_truth)\n",
    "print(V)\n",
    "print(V_truth)\n",
    "print(nvi)"
   ]
  },
  {
   "cell_type": "code",
   "execution_count": 16,
   "metadata": {
    "ExecuteTime": {
     "end_time": "2018-01-10T18:56:13.002508Z",
     "start_time": "2018-01-10T18:56:12.997428Z"
    }
   },
   "outputs": [],
   "source": [
    "detV = sp_linalg.det(V)\n",
    "print(detV)"
   ]
  },
  {
   "cell_type": "code",
   "execution_count": 27,
   "metadata": {
    "ExecuteTime": {
     "end_time": "2018-01-10T18:59:06.629400Z",
     "start_time": "2018-01-10T18:59:06.621300Z"
    }
   },
   "outputs": [
    {
     "name": "stdout",
     "output_type": "stream",
     "text": [
      "1.99951376476\n",
      "[[ 22.05514487]]\n",
      "[[ 22.05514487]]\n"
     ]
    }
   ],
   "source": [
    "lmbda = model_truth.lmbda\n",
    "\n",
    "aRa = np.sum(np.square(a / lmbda))\n",
    "print(aRa)\n",
    "aRb = np.dot(b.T, a / np.square(lmbda))\n",
    "print(aRb)"
   ]
  },
  {
   "cell_type": "code",
   "execution_count": 30,
   "metadata": {
    "ExecuteTime": {
     "end_time": "2018-01-10T19:01:13.714952Z",
     "start_time": "2018-01-10T19:01:13.700737Z"
    }
   },
   "outputs": [
    {
     "name": "stdout",
     "output_type": "stream",
     "text": [
      "[ 4231.40772456]\n",
      "[[ 4441.09100065]]\n",
      "[[-209.68327609]]\n",
      "[ 63.11656956]\n",
      "[[ 66.16543461]]\n",
      "[[-3.04886505]]\n",
      "[[-209.68327609]\n",
      " [  -3.04886505]]\n"
     ]
    }
   ],
   "source": [
    "print(np.dot(agei, np.matmul(yi, a / np.square(lmbda))))\n",
    "print(np.sum(agei) * aRb)\n",
    "print(np.dot(agei, np.matmul(yi, a / np.square(lmbda))) - np.sum(agei) * aRb)\n",
    "\n",
    "print(np.dot(np.sum(yi, axis=0), a / np.square(lmbda)))\n",
    "print(nvi * aRb)\n",
    "print(np.dot(np.sum(yi, axis=0), a / np.square(lmbda)) - nvi * aRb)\n",
    "\n",
    "invSi_mui = np.vstack(( np.dot(agei, np.matmul(yi, a / np.square(lmbda))) - np.sum(agei) * aRb,\n",
    "                        np.dot(np.sum(yi, axis=0), a / np.square(lmbda)) - nvi * aRb ))\n",
    "\n",
    "print(invSi_mui)"
   ]
  },
  {
   "cell_type": "code",
   "execution_count": null,
   "metadata": {
    "collapsed": true
   },
   "outputs": [],
   "source": [
    "# code this the slow way to check\n",
    "for "
   ]
  },
  {
   "cell_type": "code",
   "execution_count": 11,
   "metadata": {
    "ExecuteTime": {
     "end_time": "2018-01-10T18:53:51.604116Z",
     "start_time": "2018-01-10T18:53:51.577841Z"
    }
   },
   "outputs": [
    {
     "data": {
      "text/plain": [
       "(matrix([[ 0.04080515]]),\n",
       " matrix([[-2.92411733]]),\n",
       " matrix([[  1.46838342e-03,  -1.19509079e-01],\n",
       "         [ -1.19509079e-01,   9.79658152e+00]]))"
      ]
     },
     "execution_count": 11,
     "metadata": {},
     "output_type": "execute_result"
    }
   ],
   "source": [
    "# project an individual onto the correct trajectory model\n",
    "i = 10\n",
    "idx = subject==i\n",
    "agei = age[idx]\n",
    "yi = y[idx,:]\n",
    "model_truth.project(agei,yi)"
   ]
  },
  {
   "cell_type": "code",
   "execution_count": 32,
   "metadata": {
    "ExecuteTime": {
     "end_time": "2018-01-06T20:26:45.988335Z",
     "start_time": "2018-01-06T20:26:45.980865Z"
    }
   },
   "outputs": [
    {
     "name": "stdout",
     "output_type": "stream",
     "text": [
      "-0.00277107546226 -0.542483439392\n"
     ]
    }
   ],
   "source": [
    "print(alpha_truth[i],beta_truth[i])"
   ]
  },
  {
   "cell_type": "code",
   "execution_count": 11,
   "metadata": {
    "ExecuteTime": {
     "end_time": "2018-01-05T23:26:04.967701Z",
     "start_time": "2018-01-05T23:26:01.053696Z"
    },
    "scrolled": true
   },
   "outputs": [
    {
     "name": "stdout",
     "output_type": "stream",
     "text": [
      "[[  1.06237579e-06]\n",
      " [  7.58121543e-07]\n",
      " [  4.74537340e-07]\n",
      " [  2.36018427e-07]\n",
      " [  2.31743580e-07]\n",
      " [  4.23382380e-07]\n",
      " [  1.47446903e-06]\n",
      " [  1.24182429e-06]]\n",
      "[[ 1608.70631041]]\n",
      "[[  4.42379736e-06]\n",
      " [  3.22999348e-06]\n",
      " [  1.71529297e-06]\n",
      " [  5.61216634e-07]\n",
      " [  8.88989290e-07]\n",
      " [  1.75376666e-06]\n",
      " [  6.43368767e-06]\n",
      " [  4.93321671e-06]]\n",
      "[[ 1608.71227713]]\n",
      "[[  1.87324013e-05]\n",
      " [  1.38475565e-05]\n",
      " [  6.97725301e-06]\n",
      " [  1.83919208e-06]\n",
      " [  3.71054075e-06]\n",
      " [  7.46064806e-06]\n",
      " [  2.75628970e-05]\n",
      " [  2.06681722e-05]]\n",
      "[[ 1608.82078353]]\n",
      "[[  7.92997786e-05]\n",
      " [  5.88968679e-05]\n",
      " [  2.92130719e-05]\n",
      " [  7.14476300e-06]\n",
      " [  1.56661720e-05]\n",
      " [  3.16631157e-05]\n",
      " [  1.17057853e-04]\n",
      " [  8.72750594e-05]]\n",
      "[[ 1610.7541355]]\n",
      "[[  3.07191107e-04]\n",
      " [  2.28431225e-04]\n",
      " [  1.12694427e-04]\n",
      " [  2.69093250e-05]\n",
      " [  6.06585467e-05]\n",
      " [  1.22743957e-04]\n",
      " [  4.53870406e-04]\n",
      " [  3.37836339e-04]]\n",
      "[[ 1636.38400101]]\n",
      "[[  5.77367547e-04]\n",
      " [  4.27509003e-04]\n",
      " [  2.08228308e-04]\n",
      " [  4.79564707e-05]\n",
      " [  1.13844304e-04]\n",
      " [  2.29802901e-04]\n",
      " [  8.53070897e-04]\n",
      " [  6.34036208e-04]]\n",
      "[[ 1710.17569792]]\n",
      "[[  5.65276689e-04]\n",
      " [  4.13608691e-04]\n",
      " [  1.94006182e-04]\n",
      " [  3.86991231e-05]\n",
      " [  1.09269343e-04]\n",
      " [  2.20460991e-04]\n",
      " [  8.33959392e-04]\n",
      " [  6.19839503e-04]]\n",
      "[[ 1721.84482794]]\n",
      "[[  5.38045044e-04]\n",
      " [  3.91382965e-04]\n",
      " [  1.79200273e-04]\n",
      " [  3.17502566e-05]\n",
      " [  1.02648768e-04]\n",
      " [  2.06687410e-04]\n",
      " [  7.92636653e-04]\n",
      " [  5.89772136e-04]]\n",
      "[[ 1713.5104789]]\n",
      "[[  5.21649951e-04]\n",
      " [  3.78621491e-04]\n",
      " [  1.71538154e-04]\n",
      " [  2.87676025e-05]\n",
      " [  9.89321610e-05]\n",
      " [  1.99079297e-04]\n",
      " [  7.67980375e-04]\n",
      " [  5.71680634e-04]]\n",
      "[[ 1706.7656789]]\n",
      "[[  5.13196072e-04]\n",
      " [  3.72189363e-04]\n",
      " [  1.67987811e-04]\n",
      " [  2.76661357e-05]\n",
      " [  9.70623905e-05]\n",
      " [  1.95438299e-04]\n",
      " [  7.55399822e-04]\n",
      " [  5.62372535e-04]]\n",
      "[[ 1703.0453957]]\n",
      "[[  5.09059652e-04]\n",
      " [  3.69069116e-04]\n",
      " [  1.66391747e-04]\n",
      " [  2.73001436e-05]\n",
      " [  9.61319694e-05]\n",
      " [  1.93777494e-04]\n",
      " [  7.49319895e-04]\n",
      " [  5.57849779e-04]]\n",
      "[[ 1701.19811527]]\n",
      "[[  5.07075546e-04]\n",
      " [  3.67565620e-04]\n",
      " [  1.65673632e-04]\n",
      " [  2.71964693e-05]\n",
      " [  9.56565192e-05]\n",
      " [  1.93033293e-04]\n",
      " [  7.46445821e-04]\n",
      " [  5.55706915e-04]]\n",
      "[[ 1700.3135814]]\n",
      "[[  5.06124753e-04]\n",
      " [  3.66831279e-04]\n",
      " [  1.65342947e-04]\n",
      " [  2.71784192e-05]\n",
      " [  9.54014183e-05]\n",
      " [  1.92700329e-04]\n",
      " [  7.45092834e-04]\n",
      " [  5.54698977e-04]]\n",
      "[[ 1699.89218676]]\n",
      "[[  5.05662504e-04]\n",
      " [  3.66461453e-04]\n",
      " [  1.65183963e-04]\n",
      " [  2.71845425e-05]\n",
      " [  9.52560048e-05]\n",
      " [  1.92549773e-04]\n",
      " [  7.44449600e-04]\n",
      " [  5.54221732e-04]]\n",
      "[[ 1699.68831633]]\n",
      "[[  5.05431135e-04]\n",
      " [  3.66266541e-04]\n",
      " [  1.65102797e-04]\n",
      " [  2.71951149e-05]\n",
      " [  9.51678236e-05]\n",
      " [  1.92480193e-04]\n",
      " [  7.44136619e-04]\n",
      " [  5.53991265e-04]]\n",
      "[[ 1699.58642396]]\n",
      "[[  5.05310229e-04]\n",
      " [  3.66157879e-04]\n",
      " [  1.65058322e-04]\n",
      " [  2.72046140e-05]\n",
      " [  9.51113377e-05]\n",
      " [  1.92446928e-04]\n",
      " [  7.43978628e-04]\n",
      " [  5.53876209e-04]]\n",
      "[[ 1699.53301686]]\n",
      "[[  5.05243524e-04]\n",
      " [  3.66093541e-04]\n",
      " [  1.65032131e-04]\n",
      " [  2.72119992e-05]\n",
      " [  9.50735552e-05]\n",
      " [  1.92430266e-04]\n",
      " [  7.43894832e-04]\n",
      " [  5.53816039e-04]]\n",
      "[[ 1699.50333209]]\n",
      "[[  5.05204461e-04]\n",
      " [  3.66053228e-04]\n",
      " [  1.65015688e-04]\n",
      " [  2.72174690e-05]\n",
      " [  9.50474797e-05]\n",
      " [  1.92421419e-04]\n",
      " [  7.43847714e-04]\n",
      " [  5.53782734e-04]]\n",
      "[[ 1699.48576463]]\n",
      "[[  5.05180230e-04]\n",
      " [  3.66026742e-04]\n",
      " [  1.65004828e-04]\n",
      " [  2.72214544e-05]\n",
      " [  9.50290967e-05]\n",
      " [  1.92416409e-04]\n",
      " [  7.43819561e-04]\n",
      " [  5.53763140e-04]]\n",
      "[[ 1699.47474016]]\n",
      "[[  5.05164440e-04]\n",
      " [  3.66008702e-04]\n",
      " [  1.64997390e-04]\n",
      " [  2.72243464e-05]\n",
      " [  9.50159560e-05]\n",
      " [  1.92413382e-04]\n",
      " [  7.43801774e-04]\n",
      " [  5.53750925e-04]]\n",
      "[[ 1699.46747725]]\n",
      "[[  5.05153750e-04]\n",
      " [  3.65996098e-04]\n",
      " [  1.64992169e-04]\n",
      " [  2.72264456e-05]\n",
      " [  9.50064796e-05]\n",
      " [  1.92411449e-04]\n",
      " [  7.43790010e-04]\n",
      " [  5.53742930e-04]]\n",
      "[[ 1699.46251508]]\n",
      "[[  5.05146313e-04]\n",
      " [  3.65987142e-04]\n",
      " [  1.64988446e-04]\n",
      " [  2.72279719e-05]\n",
      " [  9.49996082e-05]\n",
      " [  1.92410159e-04]\n",
      " [  7.43781959e-04]\n",
      " [  5.53737500e-04]]\n",
      "[[ 1699.45903814]]\n",
      "[[  5.05141043e-04]\n",
      " [  3.65980708e-04]\n",
      " [  1.64985765e-04]\n",
      " [  2.72290835e-05]\n",
      " [  9.49946089e-05]\n",
      " [  1.92409269e-04]\n",
      " [  7.43776315e-04]\n",
      " [  5.53733713e-04]]\n",
      "[[ 1699.45656116]]\n",
      "[[  5.05137264e-04]\n",
      " [  3.65976054e-04]\n",
      " [  1.64983822e-04]\n",
      " [  2.72298942e-05]\n",
      " [  9.49909640e-05]\n",
      " [  1.92408642e-04]\n",
      " [  7.43772296e-04]\n",
      " [  5.53731025e-04]]\n",
      "[[ 1699.45477797]]\n",
      "[[  5.05134533e-04]\n",
      " [  3.65972673e-04]\n",
      " [  1.64982409e-04]\n",
      " [  2.72304860e-05]\n",
      " [  9.49883032e-05]\n",
      " [  1.92408194e-04]\n",
      " [  7.43769405e-04]\n",
      " [  5.53729095e-04]]\n",
      "[[ 1699.45348594]]\n"
     ]
    },
    {
     "data": {
      "text/plain": [
       "<progscore.model.LinearPSModel at 0x111a3c320>"
      ]
     },
     "execution_count": 11,
     "metadata": {},
     "output_type": "execute_result"
    }
   ],
   "source": [
    "model_nocorr = ps.LinearPSModel(data, y=y, correlationType='unstructured')\n",
    "\n",
    "model_nocorr.fit()"
   ]
  },
  {
   "cell_type": "code",
   "execution_count": 12,
   "metadata": {
    "ExecuteTime": {
     "end_time": "2018-01-05T22:49:29.856329Z",
     "start_time": "2018-01-05T22:49:29.706194Z"
    }
   },
   "outputs": [
    {
     "ename": "AttributeError",
     "evalue": "'Series' object has no attribute 'LinearTrajectory'",
     "output_type": "error",
     "traceback": [
      "\u001b[0;31m---------------------------------------------------------------------------\u001b[0m",
      "\u001b[0;31mAttributeError\u001b[0m                            Traceback (most recent call last)",
      "\u001b[0;32m<ipython-input-12-75fe319e0606>\u001b[0m in \u001b[0;36m<module>\u001b[0;34m()\u001b[0m\n\u001b[1;32m     10\u001b[0m \u001b[0mnumBiomarkers\u001b[0m \u001b[0;34m=\u001b[0m \u001b[0;36m5\u001b[0m\u001b[0;34m\u001b[0m\u001b[0m\n\u001b[1;32m     11\u001b[0m \u001b[0mp\u001b[0m \u001b[0;34m=\u001b[0m \u001b[0mnp\u001b[0m\u001b[0;34m.\u001b[0m\u001b[0mvstack\u001b[0m\u001b[0;34m\u001b[0m\u001b[0m\n\u001b[0;32m---> 12\u001b[0;31m \u001b[0mtrajectory\u001b[0m \u001b[0;34m=\u001b[0m \u001b[0mps\u001b[0m\u001b[0;34m.\u001b[0m\u001b[0mLinearTrajectory\u001b[0m\u001b[0;34m(\u001b[0m\u001b[0mnumBiomarkers\u001b[0m\u001b[0;34m)\u001b[0m\u001b[0;34m\u001b[0m\u001b[0m\n\u001b[0m\u001b[1;32m     13\u001b[0m \u001b[0mtrajectory\u001b[0m\u001b[0;34m.\u001b[0m\u001b[0msetParams\u001b[0m\u001b[0;34m(\u001b[0m\u001b[0;34m)\u001b[0m\u001b[0;34m\u001b[0m\u001b[0m\n",
      "\u001b[0;32m/Users/bilgelm/anaconda/lib/python3.6/site-packages/pandas/core/generic.py\u001b[0m in \u001b[0;36m__getattr__\u001b[0;34m(self, name)\u001b[0m\n\u001b[1;32m   3079\u001b[0m             \u001b[0;32mif\u001b[0m \u001b[0mname\u001b[0m \u001b[0;32min\u001b[0m \u001b[0mself\u001b[0m\u001b[0;34m.\u001b[0m\u001b[0m_info_axis\u001b[0m\u001b[0;34m:\u001b[0m\u001b[0;34m\u001b[0m\u001b[0m\n\u001b[1;32m   3080\u001b[0m                 \u001b[0;32mreturn\u001b[0m \u001b[0mself\u001b[0m\u001b[0;34m[\u001b[0m\u001b[0mname\u001b[0m\u001b[0;34m]\u001b[0m\u001b[0;34m\u001b[0m\u001b[0m\n\u001b[0;32m-> 3081\u001b[0;31m             \u001b[0;32mreturn\u001b[0m \u001b[0mobject\u001b[0m\u001b[0;34m.\u001b[0m\u001b[0m__getattribute__\u001b[0m\u001b[0;34m(\u001b[0m\u001b[0mself\u001b[0m\u001b[0;34m,\u001b[0m \u001b[0mname\u001b[0m\u001b[0;34m)\u001b[0m\u001b[0;34m\u001b[0m\u001b[0m\n\u001b[0m\u001b[1;32m   3082\u001b[0m \u001b[0;34m\u001b[0m\u001b[0m\n\u001b[1;32m   3083\u001b[0m     \u001b[0;32mdef\u001b[0m \u001b[0m__setattr__\u001b[0m\u001b[0;34m(\u001b[0m\u001b[0mself\u001b[0m\u001b[0;34m,\u001b[0m \u001b[0mname\u001b[0m\u001b[0;34m,\u001b[0m \u001b[0mvalue\u001b[0m\u001b[0;34m)\u001b[0m\u001b[0;34m:\u001b[0m\u001b[0;34m\u001b[0m\u001b[0m\n",
      "\u001b[0;31mAttributeError\u001b[0m: 'Series' object has no attribute 'LinearTrajectory'"
     ]
    }
   ],
   "source": [
    "data = pd.DataFrame({'subjectIDps':[0,0,0,1,1], \n",
    "                     'age':[50,60,70,55,65]})\n",
    "\n",
    "numVisitsPerSubject = data.groupby('subjectIDps').size()\n",
    "\n",
    "alpha = np.array((1.1, 1.3)).reshape(-1,1)\n",
    "beta = np.array((-5, 7)).reshape(-1,1)\n",
    "ps = np.repeat(alpha, numVisitsPerSubject) * data['age'] + \\\n",
    "     np.repeat(beta, numVisitsPerSubject)\n",
    "\n",
    "numBiomarkers = 5\n",
    "p = np.vstack\n",
    "trajectory = ps.LinearTrajectory(numBiomarkers)\n",
    "trajectory.setParams()"
   ]
  },
  {
   "cell_type": "code",
   "execution_count": null,
   "metadata": {
    "ExecuteTime": {
     "end_time": "2018-01-05T22:49:29.857422Z",
     "start_time": "2018-01-05T22:49:26.059Z"
    },
    "collapsed": true
   },
   "outputs": [],
   "source": [
    "lt = ps.LinearPS(1)"
   ]
  },
  {
   "cell_type": "code",
   "execution_count": null,
   "metadata": {
    "ExecuteTime": {
     "end_time": "2018-01-05T22:49:29.858283Z",
     "start_time": "2018-01-05T22:49:26.060Z"
    },
    "collapsed": true
   },
   "outputs": [],
   "source": [
    "type(np.ones(3).reshape(-1,1))"
   ]
  },
  {
   "cell_type": "code",
   "execution_count": null,
   "metadata": {
    "ExecuteTime": {
     "end_time": "2018-01-05T22:49:29.859406Z",
     "start_time": "2018-01-05T22:49:26.061Z"
    },
    "collapsed": true
   },
   "outputs": [],
   "source": [
    "type(np.array((1,0)).reshape(-1,1))"
   ]
  },
  {
   "cell_type": "code",
   "execution_count": null,
   "metadata": {
    "ExecuteTime": {
     "end_time": "2018-01-05T22:49:29.861341Z",
     "start_time": "2018-01-05T22:49:26.062Z"
    },
    "collapsed": true
   },
   "outputs": [],
   "source": [
    "np.matrix('1;0')"
   ]
  },
  {
   "cell_type": "code",
   "execution_count": null,
   "metadata": {
    "ExecuteTime": {
     "end_time": "2018-01-05T22:49:29.862407Z",
     "start_time": "2018-01-05T22:49:26.063Z"
    },
    "collapsed": true
   },
   "outputs": [],
   "source": [
    "np.matrix(np.ones(3).reshape(-1,1))"
   ]
  },
  {
   "cell_type": "code",
   "execution_count": null,
   "metadata": {
    "ExecuteTime": {
     "end_time": "2018-01-05T22:49:29.863386Z",
     "start_time": "2018-01-05T22:49:26.064Z"
    },
    "collapsed": true
   },
   "outputs": [],
   "source": [
    "np.matrix(np.eye(2))"
   ]
  },
  {
   "cell_type": "code",
   "execution_count": null,
   "metadata": {
    "ExecuteTime": {
     "end_time": "2018-01-05T22:49:29.864967Z",
     "start_time": "2018-01-05T22:49:26.065Z"
    },
    "collapsed": true
   },
   "outputs": [],
   "source": [
    "['a','b'] + [None]"
   ]
  },
  {
   "cell_type": "code",
   "execution_count": null,
   "metadata": {
    "ExecuteTime": {
     "end_time": "2018-01-05T22:49:29.866211Z",
     "start_time": "2018-01-05T22:49:26.066Z"
    },
    "collapsed": true
   },
   "outputs": [],
   "source": [
    "tmp = np.array((1,2)).reshape(-1,1)"
   ]
  },
  {
   "cell_type": "code",
   "execution_count": null,
   "metadata": {
    "ExecuteTime": {
     "end_time": "2018-01-05T22:49:29.867447Z",
     "start_time": "2018-01-05T22:49:26.067Z"
    },
    "collapsed": true
   },
   "outputs": [],
   "source": [
    "tmp.transpose() * tmp"
   ]
  },
  {
   "cell_type": "code",
   "execution_count": null,
   "metadata": {
    "ExecuteTime": {
     "end_time": "2018-01-05T22:49:29.868675Z",
     "start_time": "2018-01-05T22:49:26.068Z"
    },
    "collapsed": true
   },
   "outputs": [],
   "source": [
    "hodu = np.matrix([(1,2),(3,4)])"
   ]
  },
  {
   "cell_type": "code",
   "execution_count": null,
   "metadata": {
    "ExecuteTime": {
     "end_time": "2018-01-05T22:49:29.870021Z",
     "start_time": "2018-01-05T22:49:26.069Z"
    },
    "collapsed": true
   },
   "outputs": [],
   "source": [
    "hodu[1,0]"
   ]
  },
  {
   "cell_type": "code",
   "execution_count": null,
   "metadata": {
    "ExecuteTime": {
     "end_time": "2018-01-05T22:49:29.871175Z",
     "start_time": "2018-01-05T22:49:26.070Z"
    },
    "collapsed": true
   },
   "outputs": [],
   "source": [
    "np.concatenate((tmp,tmp),axis=1)"
   ]
  },
  {
   "cell_type": "code",
   "execution_count": null,
   "metadata": {
    "ExecuteTime": {
     "end_time": "2018-01-05T22:49:29.872234Z",
     "start_time": "2018-01-05T22:49:26.071Z"
    },
    "collapsed": true
   },
   "outputs": [],
   "source": [
    "np.sum(np.hstack((tmp,tmp)))"
   ]
  },
  {
   "cell_type": "code",
   "execution_count": null,
   "metadata": {
    "ExecuteTime": {
     "end_time": "2018-01-05T22:49:29.873253Z",
     "start_time": "2018-01-05T22:49:26.072Z"
    },
    "collapsed": true
   },
   "outputs": [],
   "source": [
    "p"
   ]
  },
  {
   "cell_type": "code",
   "execution_count": null,
   "metadata": {
    "ExecuteTime": {
     "end_time": "2018-01-05T22:49:29.874970Z",
     "start_time": "2018-01-05T22:49:26.073Z"
    },
    "collapsed": true
   },
   "outputs": [],
   "source": [
    "np.matrix([16,25]).shape"
   ]
  },
  {
   "cell_type": "code",
   "execution_count": null,
   "metadata": {
    "ExecuteTime": {
     "end_time": "2018-01-05T22:49:29.876164Z",
     "start_time": "2018-01-05T22:49:26.074Z"
    },
    "collapsed": true
   },
   "outputs": [],
   "source": [
    "a = np.matrix([1,4])\n",
    "print(\"a: %s\" % (a.T.shape,))"
   ]
  },
  {
   "cell_type": "code",
   "execution_count": null,
   "metadata": {
    "collapsed": true
   },
   "outputs": [],
   "source": []
  }
 ],
 "metadata": {
  "kernelspec": {
   "display_name": "Python 3",
   "language": "python",
   "name": "python3"
  },
  "language_info": {
   "codemirror_mode": {
    "name": "ipython",
    "version": 3
   },
   "file_extension": ".py",
   "mimetype": "text/x-python",
   "name": "python",
   "nbconvert_exporter": "python",
   "pygments_lexer": "ipython3",
   "version": "3.6.1"
  },
  "toc": {
   "nav_menu": {},
   "number_sections": true,
   "sideBar": true,
   "skip_h1_title": false,
   "toc_cell": false,
   "toc_position": {},
   "toc_section_display": "block",
   "toc_window_display": false
  }
 },
 "nbformat": 4,
 "nbformat_minor": 2
}
